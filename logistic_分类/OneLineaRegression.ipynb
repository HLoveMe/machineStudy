{
 "cells": [
  {
   "cell_type": "markdown",
   "metadata": {},
   "source": [
    "$\n",
    "    w = \\frac{\\overline{X} * \\overline{Y} - \\overline{(XY)}}{\\overline{X}^2  - \\overline{X^2}}\n",
    "$\n",
    "\n",
    "$\n",
    "    b = \\overline{Y} - w\\overline{X}\n",
    "$\n"
   ]
  },
  {
   "cell_type": "code",
   "execution_count": 68,
   "metadata": {},
   "outputs": [
    {
     "name": "stdout",
     "output_type": "stream",
     "text": [
      "线性回归函数参数: 斜率: 4.999999999999999 ,截距: 60.000000000000014\n"
     ]
    },
    {
     "data": {
      "image/png": "[encoded data removed]",
      "text/plain": [
       "<Figure size 432x288 with 1 Axes>"
      ]
     },
     "metadata": {
      "needs_background": "light"
     },
     "output_type": "display_data"
    }
   ],
   "source": [
    "import numpy as np\n",
    "import matplotlib.pyplot as plt\n",
    "from matplotlib.lines import Line2D\n",
    "\n",
    "train_x = np.array([2, 6, 8, 8, 12, 16, 20, 20, 22, 26])\n",
    "train_y = np.array([58, 105, 88, 118, 117, 137, 157, 169, 149, 202])\n",
    "\n",
    "test_x = np.array([3, 7, 17]).reshape(-1, 1)\n",
    "test_y = np.array([70, 100, 155]).reshape(-1, 1)\n",
    "\n",
    "\n",
    "class OneLineaRegression:\n",
    "    def __init__(self, train_x, train_y):\n",
    "        self.train_x = train_x\n",
    "        self.train_y = train_y\n",
    "        self.train = np.hstack(\n",
    "            (train_x.reshape(-1, 1), train_y.reshape(-1, 1)))\n",
    "        self.w = 0\n",
    "        self.b = 0\n",
    "\n",
    "    def calcuate_loss(self):\n",
    "        # x 均值\n",
    "        x_avg = np.mean(self.train_x)\n",
    "        # y 均值\n",
    "        y_avg = np.mean(self.train_y)\n",
    "        # x*y的均值\n",
    "        xy_avg = np.mean(self.train_x * self.train_y)\n",
    "        # 平方的均值\n",
    "        xx_avg = np.mean(self.train_x ** 2)\n",
    "        # 均值的平方\n",
    "        x_avg_x = x_avg * x_avg\n",
    "\n",
    "        self.w = (x_avg * y_avg - xy_avg) / (x_avg_x - xx_avg)\n",
    "        self.b = y_avg - self.w * x_avg\n",
    "        pass\n",
    "\n",
    "    def predict(self, x):\n",
    "        return self.w * x + self.b\n",
    "\n",
    "    def show_line(self):\n",
    "        line_x = np.arange(0, 30)\n",
    "        line_y = self.w * line_x + self.b\n",
    "        plt.scatter(self.train_x, self.train_y)\n",
    "        plt.plot(line_x, line_y)\n",
    "        plt.xlabel('x')\n",
    "        plt.ylabel('y')\n",
    "        plt.ylim(0, 250)\n",
    "        test_pre_y = self.predict(test_x)\n",
    "        plt.scatter(test_x, test_pre_y, c='r', label='predict')\n",
    "        plt.scatter(test_x, test_y, c='orange', label='test')\n",
    "        plt.legend()\n",
    "        plt.show()\n",
    "        pass\n",
    "\n",
    "\n",
    "liner = OneLineaRegression(train_x, train_y)\n",
    "liner.calcuate_loss()\n",
    "print('线性回归函数参数:', '斜率:', liner.w, ',截距:', liner.b)\n",
    "# 显示一个预测点  (16,16*w+b)\n",
    "liner.show_line()\n"
   ]
  },
  {
   "cell_type": "code",
   "execution_count": 69,
   "metadata": {},
   "outputs": [
    {
     "name": "stdout",
     "output_type": "stream",
     "text": [
      "线性回归函数参数: 斜率: 5.0 ,截距: 60.0\n"
     ]
    },
    {
     "data": {
      "image/png": "[encoded data removed]",
      "text/plain": [
       "<Figure size 432x288 with 1 Axes>"
      ]
     },
     "metadata": {
      "needs_background": "light"
     },
     "output_type": "display_data"
    }
   ],
   "source": [
    "from sklearn.linear_model import LinearRegression\n",
    "import matplotlib.pyplot as plt\n",
    "\n",
    "train_x = np.array([2, 6, 8, 8, 12, 16, 20, 20, 22, 26]).reshape((-1, 1))\n",
    "train_y = np.array([58, 105, 88, 118, 117, 137, 157,\n",
    "                   169, 149, 202]).reshape((-1, 1))\n",
    "\n",
    "test_x = np.array([3, 7, 17]).reshape(-1, 1)\n",
    "test_y = np.array([70, 100, 155]).reshape(-1, 1)\n",
    "\n",
    "model = LinearRegression()\n",
    "# train_x = shape(10,1)\n",
    "model.fit(train_x, train_y)\n",
    "\n",
    "\n",
    "def show_line(w, b):\n",
    "    line_x = np.arange(0, 30)\n",
    "    line_y = w * line_x + b\n",
    "    plt.plot(line_x, line_y)\n",
    "    plt.scatter(train_x, train_y)\n",
    "    plt.xlabel('预测输入量', fontproperties=\"SimSun\")\n",
    "    plt.ylabel('预测值', fontproperties=\"SimSun\")\n",
    "    plt.ylim(0, 250)\n",
    "    plt.xlim(0, 30)\n",
    "    test_pre_y = model.predict(test_x)\n",
    "    plt.scatter(test_x, test_pre_y, c='r', label='predict2')\n",
    "    plt.scatter(test_x, test_y, c='orange', label='test2')\n",
    "    plt.legend()\n",
    "    plt.show()\n",
    "\n",
    "\n",
    "print('线性回归函数参数:', '斜率:', model.coef_[0, 0], ',截距:', model.intercept_[0])\n",
    "show_line(model.coef_[0, 0], model.intercept_[0])\n"
   ]
  },
  {
   "cell_type": "markdown",
   "metadata": {},
   "source": [
    "- 一元线性回归-->多项式回归 （扩展，优化）\n",
    "  ```\n",
    "    多项式回归是再一元线性回归的基础上，添加了高阶项，使得回归更加复杂，来调优的过程。\n",
    "  ```\n",
    "  - 模型选择变化\n",
    "    $\n",
    "      y = w*x + b\n",
    "    $\n",
    "    变为\n",
    "    $\n",
    "      y=b+\\beta_1 * x+ \\beta_2 * x^2+ \\beta_3 * x^3+ \\beta_4 * x^4+ \\beta_5 * x^5\n",
    "    $\n",
    "- 二次回归（讲解）\n",
    "    $\n",
    "    y = b + \\beta_1 * x + \\beta_2 * x^2\n",
    "    $\n"
   ]
  },
  {
   "cell_type": "code",
   "execution_count": 16,
   "metadata": {},
   "outputs": [
    {
     "name": "stdout",
     "output_type": "stream",
     "text": [
      "线性回归函数参数: 斜率: 0.9762931034482755 ,截距: 1.965517241379315\n",
      "[[  1.   6.  36.]\n",
      " [  1.   8.  64.]\n",
      " [  1.  10. 100.]\n",
      " [  1.  14. 196.]\n",
      " [  1.  18. 324.]]\n"
     ]
    },
    {
     "data": {
      "image/png": "[encoded data removed]",
      "text/plain": [
       "<Figure size 432x288 with 1 Axes>"
      ]
     },
     "metadata": {
      "needs_background": "light"
     },
     "output_type": "display_data"
    }
   ],
   "source": [
    "import numpy as np\n",
    "import matplotlib.pyplot as plt\n",
    "from sklearn.linear_model import LinearRegression\n",
    "from sklearn.preprocessing import PolynomialFeatures\n",
    "\n",
    "train_x = np.array([6, 8, 10, 14, 18]).reshape(-1, 1)\n",
    "train_y = np.array([7, 9, 13, 17.5, 18]).reshape(-1, 1)\n",
    "test_x = np.array([6, 8, 11, 16]).reshape(-1, 1)\n",
    "test_y = np.array([8, 12, 15, 18]).reshape(-1, 1)\n",
    "\n",
    "model1 = LinearRegression()\n",
    "model1.fit(train_x, train_y)\n",
    "print('线性回归函数参数:', '斜率:', model1.coef_[0, 0], ',截距:', model1.intercept_[0])\n",
    "# 一维线性预测\n",
    "test_pre_y = model1.predict(test_x)\n",
    "\n",
    "quad_model = PolynomialFeatures(degree=2)\n",
    "# 生成多项式数据 A**0 ,A ** 1 , A**2,...\n",
    "train_x_quad = quad_model.fit_transform(train_x)\n",
    "test_x_quad = quad_model.fit_transform(test_x)\n",
    "model2 = LinearRegression()\n",
    "model2.fit(train_x_quad, train_y)\n",
    "print(train_x_quad)\n",
    "# print('线性回归函数参数:', '斜率:', model1.coef_,',截距:', model1.intercept_[0])\n",
    "\n",
    "# 显示训练数据\n",
    "plt.scatter(train_x, train_y,label='train data')\n",
    "# 显示一维预测模型\n",
    "plt.plot(test_x, test_pre_y,label='predict data 1')\n",
    "plt.xlabel('直径',fontproperties=\"SimSun\")\n",
    "plt.ylabel('价格',fontproperties=\"SimSun\")\n",
    "plt.legend()\n",
    "plt.show()\n"
   ]
  },
  {
   "cell_type": "code",
   "execution_count": null,
   "metadata": {},
   "outputs": [],
   "source": []
  }
 ],
 "metadata": {
  "interpreter": {
   "hash": "82808580bda45c352d044fa2956fda88987e659e42042cecdcfd01ebf2440eb9"
  },
  "kernelspec": {
   "display_name": "Python 3.9.7 64-bit ('sklearn': conda)",
   "language": "python",
   "name": "python3"
  },
  "language_info": {
   "codemirror_mode": {
    "name": "ipython",
    "version": 3
   },
   "file_extension": ".py",
   "mimetype": "text/x-python",
   "name": "python",
   "nbconvert_exporter": "python",
   "pygments_lexer": "ipython3",
   "version": "3.8.12"
  },
  "orig_nbformat": 4
 },
 "nbformat": 4,
 "nbformat_minor": 2
}
