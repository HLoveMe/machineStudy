{
 "cells": [
  {
   "cell_type": "markdown",
   "metadata": {},
   "source": [
    "$\n",
    "    w = \\frac{\\overline{X} * \\overline{Y} - \\overline{(XY)}}{\\overline{X}^2  - \\overline{X^2}}\n",
    "$\n",
    "\n",
    "$\n",
    "    b = \\overline{Y} - w\\overline{X}\n",
    "$\n"
   ]
  },
  {
   "cell_type": "code",
   "execution_count": 5,
   "metadata": {},
   "outputs": [
    {
     "name": "stdout",
     "output_type": "stream",
     "text": [
      "线性回归函数参数: 斜率: 4.999999999999999 ,截距: 60.000000000000014\n"
     ]
    },
    {
     "data": {
      "image/png": "[encoded data removed]",
      "text/plain": [
       "<Figure size 432x288 with 1 Axes>"
      ]
     },
     "metadata": {
      "needs_background": "light"
     },
     "output_type": "display_data"
    }
   ],
   "source": [
    "import numpy as np\n",
    "import matplotlib.pyplot as plt\n",
    "from matplotlib.lines import Line2D\n",
    "\n",
    "train_x = np.array([2, 6, 8, 8, 12, 16, 20, 20, 22, 26])\n",
    "train_y = np.array([58, 105, 88, 118, 117, 137, 157, 169, 149, 202])\n",
    "\n",
    "\n",
    "class OneLineaRegression:\n",
    "    def __init__(self, train_x, train_y):\n",
    "        self.train_x = train_x\n",
    "        self.train_y = train_y\n",
    "        self.train = np.hstack(\n",
    "            (train_x.reshape(-1, 1), train_y.reshape(-1, 1)))\n",
    "        self.w = 0\n",
    "        self.b = 0\n",
    "\n",
    "    def calcuate_loss(self):\n",
    "        # x 均值\n",
    "        x_avg = np.mean(self.train_x)\n",
    "        # y 均值\n",
    "        y_avg = np.mean(self.train_y)\n",
    "        # x*y的均值\n",
    "        xy_avg = np.mean(self.train_x * self.train_y)\n",
    "        # 平方的均值\n",
    "        xx_avg = np.mean(self.train_x ** 2)\n",
    "        # 均值的平方\n",
    "        x_avg_x = x_avg * x_avg\n",
    "\n",
    "        self.w = (x_avg * y_avg - xy_avg) / (x_avg_x - xx_avg)\n",
    "        self.b = y_avg - self.w * x_avg\n",
    "        pass\n",
    "\n",
    "    def predict(self, x):\n",
    "        return self.w * x + self.b\n",
    "\n",
    "    def show_line(self, pre_value):\n",
    "        line_x = np.arange(0, 30)\n",
    "        line_y = self.w * line_x + self.b\n",
    "        plt.scatter(self.train_x, self.train_y)\n",
    "        plt.plot(line_x, line_y)\n",
    "        plt.xlabel('x')\n",
    "        plt.ylabel('y')\n",
    "        plt.ylim(0, 250)\n",
    "        plt.plot([pre_value, pre_value], [0, self.predict(pre_value)])\n",
    "        plt.show()\n",
    "        pass\n",
    "\n",
    "\n",
    "liner = OneLineaRegression(train_x, train_y)\n",
    "liner.calcuate_loss()\n",
    "print('线性回归函数参数:', '斜率:', liner.w, ',截距:', liner.b)\n",
    "# 显示一个预测点  (16,16*w+b)\n",
    "liner.show_line(16)\n"
   ]
  },
  {
   "cell_type": "code",
   "execution_count": 22,
   "metadata": {},
   "outputs": [
    {
     "name": "stdout",
     "output_type": "stream",
     "text": [
      "线性回归函数参数: 斜率: 5.0 ,截距: 60.0\n"
     ]
    },
    {
     "data": {
      "image/png": "[encoded data removed]",
      "text/plain": [
       "<Figure size 432x288 with 1 Axes>"
      ]
     },
     "metadata": {
      "needs_background": "light"
     },
     "output_type": "display_data"
    }
   ],
   "source": [
    "from sklearn.linear_model import LinearRegression\n",
    "import matplotlib.pyplot as plt\n",
    "\n",
    "train_x = np.array([2, 6, 8, 8, 12, 16, 20, 20, 22, 26]).reshape((-1, 1))\n",
    "train_y = np.array([58, 105, 88, 118, 117, 137, 157,\n",
    "                   169, 149, 202]).reshape((-1, 1))\n",
    "model = LinearRegression()\n",
    "# train_x = shape(10,1)\n",
    "model.fit(train_x, train_y)\n",
    "\n",
    "\n",
    "def show_line(w, b, pre_x):\n",
    "    line_x = np.arange(0, 30)\n",
    "    line_y = w * line_x + b\n",
    "    pre_value = model.predict([[14]])[0][0]\n",
    "    plt.plot(line_x, line_y)\n",
    "    plt.scatter(train_x, train_y)\n",
    "    plt.xlabel('预测输入量',fontproperties=\"SimSun\")\n",
    "    plt.ylabel('预测值',fontproperties=\"SimSun\")\n",
    "    plt.ylim(0, 250)\n",
    "    plt.xlim(0, 30)\n",
    "    plt.scatter([pre_x], [pre_value], c='r')\n",
    "    plt.show()\n",
    "\n",
    "\n",
    "print('线性回归函数参数:', '斜率:', model.coef_[0, 0], ',截距:', model.intercept_[0])\n",
    "show_line(model.coef_[0, 0], model.intercept_[0], 14)\n"
   ]
  },
  {
   "cell_type": "code",
   "execution_count": null,
   "metadata": {},
   "outputs": [],
   "source": []
  }
 ],
 "metadata": {
  "interpreter": {
   "hash": "82808580bda45c352d044fa2956fda88987e659e42042cecdcfd01ebf2440eb9"
  },
  "kernelspec": {
   "display_name": "Python 3.9.7 64-bit ('sklearn': conda)",
   "language": "python",
   "name": "python3"
  },
  "language_info": {
   "codemirror_mode": {
    "name": "ipython",
    "version": 3
   },
   "file_extension": ".py",
   "mimetype": "text/x-python",
   "name": "python",
   "nbconvert_exporter": "python",
   "pygments_lexer": "ipython3",
   "version": "3.8.12"
  },
  "orig_nbformat": 4
 },
 "nbformat": 4,
 "nbformat_minor": 2
}
