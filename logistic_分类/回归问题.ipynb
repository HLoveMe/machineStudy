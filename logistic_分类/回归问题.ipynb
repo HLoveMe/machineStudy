{
 "cells": [
  {
   "cell_type": "markdown",
   "id": "23ee1e12",
   "metadata": {},
   "source": [
    "* 回归-（输入变量和输出变量是连续）\n",
    "* 分类 -(输入变量是连续的但是输出是有限的)"
   ]
  },
  {
   "cell_type": "markdown",
   "id": "b3c68910",
   "metadata": {},
   "source": [
    "* 线性回归\n",
    "  "
   ]
  },
  {
   "cell_type": "markdown",
   "id": "c9775277",
   "metadata": {},
   "source": [
    "* 一维线性函数预测 \n",
    "    $\n",
    "      y = wx + b\n",
    "    $\n",
    "    * 损失函数\n",
    "      * 把图中预测值和真实值的差值求和，然后求平均值，就是损失函数\n",
    "      $\n",
    "        L(y,y_i) = \\sum_{i=1}^n (y - y_i)^2\n",
    "      $\n",
    "      * 均值误差 (其他:欧式距离,余弦距离,曼哈顿距离，马氏距离，总偏差平方和,回归平方和，残差平方和)\n",
    "        $\n",
    "          L(w,b) = \\frac{1}{n} \\sum_{i=1}^n (wx_i + b - y_i)^2 = \\frac{1}{n} \\sum_{i=1}^n (y_i- wx_i - b )^2\n",
    "        $\n",
    "          * 为什么会选择误差平方（最小二乘法） 来标识显示回归问题的损失函数 [](https://www.zhuanlan.zhihu.com/p/147297924)\n",
    "          \n",
    "      * 线性回归问题就是求损失函数的最小值时的(w,b)来确定预测函数,进而预测其他值\n",
    "        * 对b 偏导数\n",
    "          $\n",
    "            \\frac{\\partial f}{\\partial b} = -2(\\sum_{i=1}^n y_i -nb - w\\sum_{i=1}^n x_i)\n",
    "          $\n",
    "        * 对w 偏导数\n",
    "\n",
    "          $\n",
    "            \\frac{\\partial f}{\\partial w} = -2(\\sum_{i=1}^n y_i * x_i -\\sum_{i=0}^n x_i - w\\sum_{i=1}^n x_i)\n",
    "          $\n",
    "        * 令 $ \\frac{\\partial f}{\\partial w}=0$ 以及 $ \\frac{\\partial f}{\\partial b}=0$\n",
    "  \n",
    "          $\n",
    "            w = \\frac{n\\varSigma y_i * x_i -\\varSigma x_i*\\varSigma y_i}{n\\varSigma x_i^2 -(\\varSigma x_i)^2}\n",
    "          $\n",
    "\n",
    "          $\n",
    "            b = \\frac{\\varSigma x_i^2 *\\varSigma y_i -\\varSigma x_i*\\varSigma y_i x_i}{n\\varSigma x_i^2 -(\\varSigma x_i)^2}\n",
    "          $\n",
    "          ==>\n",
    "          $\n",
    "            w = \\frac{\\overline{X}\\overline{Y} - \\overline{XY}}{\\overline{X}^2  - \\overline{X^2}}\n",
    "          $\n",
    "\n",
    "          $\n",
    "            b = \\overline{Y} - w\\overline{X}\n",
    "          $\n",
    "    <!-- <img src='./images/image01.png'> <img width='330px' src='./images/image02.png'> -->"
   ]
  },
  {
   "cell_type": "markdown",
   "id": "e4261c01",
   "metadata": {},
   "source": [
    "* 逻辑回归（逻辑分类）\n",
    "\n",
    "    * 逻辑回归是回归函数+阈值来处理分类问题\n",
    "    * 逻辑回归 = 线性回归 + Sigmoid函数 (把线性回归函数的值在通过Sigmoid来映射到(10,1),再通过阈值来进行分类)\n",
    "      * 线性回归\n",
    "          $$\n",
    "           Z= W*x +b\n",
    "          $$\n",
    "      * Sigmoid函数 （是一类类似S形状的函数，该讲解的Sigmoid函数指的是下面标准函数）\n",
    "           $$\n",
    "           Y=\\frac{1}{(1+{\\rm e}^{-z})}\n",
    "           $$\n",
    "      * 逻辑回归\n",
    "          $$\n",
    "            Y=\\frac{1}{(1+{\\rm e}^{-(W*x + b)})}  \n",
    "          $$\n",
    "          \n",
    "    \n"
   ]
  },
  {
   "cell_type": "code",
   "execution_count": 5,
   "id": "a9c08ed4",
   "metadata": {},
   "outputs": [
    {
     "data": {
      "image/png": "[encoded data removed]",
      "text/plain": [
       "<Figure size 432x288 with 1 Axes>"
      ]
     },
     "metadata": {
      "needs_background": "light"
     },
     "output_type": "display_data"
    }
   ],
   "source": [
    "import numpy as np \n",
    "import matplotlib.pyplot as plt \n",
    "\n",
    "x = np.linspace(-10, 10, 40)\n",
    "y = 1 / (1 + np.exp(-x))\n",
    "plt.plot(x,y)\n",
    "plt.suptitle(r'$y=\\frac{1}{1+e^{-x}}$ Sigmoid', fontsize=20)\n",
    "plt.grid(color='gray')\n",
    "plt.grid(linewidth='1')\n",
    "plt.grid(linestyle='--')\n",
    "\n",
    "plt.show()"
   ]
  }
 ],
 "metadata": {
  "kernelspec": {
   "display_name": "Python 3",
   "language": "python",
   "name": "python3"
  },
  "language_info": {
   "codemirror_mode": {
    "name": "ipython",
    "version": 3
   },
   "file_extension": ".py",
   "mimetype": "text/x-python",
   "name": "python",
   "nbconvert_exporter": "python",
   "pygments_lexer": "ipython3",
   "version": "3.8.12"
  }
 },
 "nbformat": 4,
 "nbformat_minor": 5
}
