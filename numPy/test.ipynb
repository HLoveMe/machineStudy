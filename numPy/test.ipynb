{
 "cells": [
  {
   "cell_type": "code",
   "execution_count": 12,
   "metadata": {},
   "outputs": [
    {
     "name": "stdout",
     "output_type": "stream",
     "text": [
      "[[0 2]\n",
      " [1 3]]\n"
     ]
    }
   ],
   "source": [
    "import numpy as np\n",
    "print(np.array([[0,1],[2,3]]).T)"
   ]
  },
  {
   "cell_type": "code",
   "execution_count": 10,
   "metadata": {},
   "outputs": [
    {
     "name": "stdout",
     "output_type": "stream",
     "text": [
      "[[ 4  5]\n",
      " [18 23]]\n"
     ]
    }
   ],
   "source": [
    "import numpy as np\n",
    "X = 2 * np.random.rand(100, 1)\n",
    "y = 4 + 3 * X + np.random.randn(100, 1)\n",
    "# print(y)\n",
    "X_b = np.c_[np.ones((100, 1)), X]\n",
    "# print(X_b)\n",
    "# print(np.hstack((np.ones((100, 1)), X)))\n",
    "print(np.dot([[0,1],[2,3]],[[3,4],[4,5]]))"
   ]
  }
 ],
 "metadata": {
  "interpreter": {
   "hash": "fdd2ee831e664113262e06eb86c49fe5a5ceb425cff3e0235490ee7d9ac24c12"
  },
  "kernelspec": {
   "display_name": "Python 3.8.12 64-bit ('sklearn': conda)",
   "language": "python",
   "name": "python3"
  },
  "language_info": {
   "codemirror_mode": {
    "name": "ipython",
    "version": 3
   },
   "file_extension": ".py",
   "mimetype": "text/x-python",
   "name": "python",
   "nbconvert_exporter": "python",
   "pygments_lexer": "ipython3",
   "version": "3.8.12"
  },
  "orig_nbformat": 4
 },
 "nbformat": 4,
 "nbformat_minor": 2
}
